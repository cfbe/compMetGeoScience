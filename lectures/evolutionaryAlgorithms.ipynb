{
 "cells": [
  {
   "cell_type": "markdown",
   "id": "1116c61a",
   "metadata": {},
   "source": [
    "# Evolutionary algorithms\n",
    "\n",
    "<i>Evolutionary algorithms</i> is a class of optimization algorithms that uses mechanisms inspired from nature, e.g., inspired by evolution theory (Darwinian evolution) or by swarm intelligence. The methods rely on a population (aka. swarm), with individuals (aka. particles) in the population being candidate solutions. These candidate solutions are ranked by a fitness function according to your optimization problem. The methods are usually iterative, where the individuals are evolved at each iteration step according to the given optimization mechanism. These mechanism can include reproduction, mutation, recombination and selection.\n",
    "    \n",
    "The evolutionary algorithms are not using derivatives nor any information about the landscape of the solution space. They can therefore be used on all kinds of optimization problems, treating the function to be optimized as a black box. This is beneficial when you do not have the gradient of the function to be optimized, e.g, when you try to optimize a simulation model (e.g., a reservoir simulation model). Evolutionary algorithms are often able to solve problems with very complex response surfaces despite often being very simple algorithms. They do, however, often suffer from needing a high number of function evaluation. If each function evaluation is a computationally heavy simulation, this might be prohibitive.\n"
   ]
  }
 ],
 "metadata": {
  "cite2c": {
   "citations": {
    "2932879/CDQB2NWX": {
     "author": [
      {
       "family": "Eberhart",
       "given": "Russell"
      },
      {
       "family": "Kennedy",
       "given": "James"
      }
     ],
     "container-title": "Proceedings of the IEEE international conference on neural networks",
     "issued": {
      "date-parts": [
       [
        1995
       ]
      ]
     },
     "page": "1942–1948",
     "publisher": "Citeseer",
     "title": "Particle swarm optimization",
     "type": "paper-conference",
     "volume": "4"
    }
   }
  },
  "kernelspec": {
   "display_name": "Python 3 (ipykernel)",
   "language": "python",
   "name": "python3"
  },
  "language_info": {
   "codemirror_mode": {
    "name": "ipython",
    "version": 3
   },
   "file_extension": ".py",
   "mimetype": "text/x-python",
   "name": "python",
   "nbconvert_exporter": "python",
   "pygments_lexer": "ipython3",
   "version": "3.10.12"
  }
 },
 "nbformat": 4,
 "nbformat_minor": 5
}
