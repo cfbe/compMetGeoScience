{
 "cells": [
  {
   "cell_type": "markdown",
   "id": "2b30e378",
   "metadata": {},
   "source": [
    "# Introduction\n",
    "\n",
    "Before the advent of computers, engineering was conducted to a large extent by solving analytical equations describing the system under investigation. Analytical descriptions are useful, and in this course we will see several analytical solutions, and use them as a base case to compare our numerical methods too. However, we will also see that the analytical descriptions only holds for very simplified systems (homogeneous properties, often one-dimensional). For realistic shapes and property distributions one quickly need to solve the underlying equations using numerical methods. Therefore, numerical methods are essential for current day engineering.\n",
    "\n",
    "This course is focusing on numerical methods that are useful for an engineer. This includes numerical algorithms and techniques such as integration, differentiation, solutions to ordinary and partial differential equations, optimization and machine learning. In this course this will be solved using the programing language Python, and we will frequently use Python-libraries such as numpy for our calculations and matplotlib for visualization. \n",
    "\n",
    "You are expected to already have a mathematics course using Python, which means that we already assume that you know integration and differentiation using Python, and that you know mathematical concepts such as matrices and their operations.\n",
    "\n",
    "\n",
    "## Python\n",
    "\n",
    "Python is a programing language that has become very popular. Its popularity is probably due it being easy to learn, easy to write, and it runs without needing to compile it. Python supports object-oriented programming, which we will have a quick look at in this introduction.\n",
    "\n",
    "These notes assumes that you already know Python to some extent. We will therefore not introduce the basics of Python, such as its syntax, that it use indenting to structure the code, etc. If you have no background in Python, you should probably take a quick look at an introduction website or a video.\n",
    "\n",
    "As these notes are made for students, codes are written more for readability than for being efficient. To clarify what is what, we will often use a Hungarian-like notation, where we specify the type of variable with a prefix. These are usually like the following:\n",
    "- C for class;\n",
    "- t for objects and structures;\n",
    "- h for handles/pointers;\n",
    "- i for integers;\n",
    "- f for floats;\n",
    "- d for doubles;\n",
    "- str for strings;\n",
    "- ch for chars;\n",
    "- b for booleans;\n",
    "- a for arrays;\n",
    "- aa matrices (i.e., arrays of arrays);\n",
    "- aaa 3D matrices (i.e., arrays of arrays of arrays), and so on\n",
    "\n",
    "\n",
    "## Classes and objects\n",
    "\n",
    "In this course we will often use object oriented programming. Almost everything in Python is an object, even variables, but that has no practical implications for us as users. Where it has a practical implication is when we use classes. A <i>class</i> is like a construction manual for building objects.\n",
    "\n",
    "To create a class, we use the keyword class. A very simple example is the following:"
   ]
  },
  {
   "cell_type": "code",
   "execution_count": 4,
   "id": "1b0c7112",
   "metadata": {},
   "outputs": [],
   "source": [
    "class CclassExample:\n",
    "    ix = 1\n"
   ]
  },
  {
   "cell_type": "markdown",
   "id": "443ccdf6",
   "metadata": {},
   "source": [
    "We can then create an instance or object of this class. An object and an instance is strictly speaking not the same thing (an instance is an object and a pointer to that object), but for all practical purposes we can consider them the same. An instance is in some sense a copy of the structure of the class. And we can create as many such copies as we want. In the following example, we create two instances of the class defined above, and we change the variable in one of the instances:"
   ]
  },
  {
   "cell_type": "code",
   "execution_count": 6,
   "id": "642be973",
   "metadata": {},
   "outputs": [
    {
     "name": "stdout",
     "output_type": "stream",
     "text": [
      "1\n",
      "2 1\n"
     ]
    }
   ],
   "source": [
    "tInst1=CclassExample()\n",
    "print(tInst1.ix)\n",
    "tInst2=CclassExample()\n",
    "tInst1.ix+=1\n",
    "print(tInst1.ix,tInst2.ix)"
   ]
  },
  {
   "cell_type": "markdown",
   "id": "da9405fa",
   "metadata": {},
   "source": [
    "The example above is very simple, and in this case we would not have used a class at all, and rather just used two different variables. The power of using classes are when they contain both variables and methods.\n",
    "\n",
    "We can initialize a class using the init-function. The variables to be initialized can either be given by the init function, or given by input when you create a new instance of the class. "
   ]
  },
  {
   "cell_type": "code",
   "execution_count": 18,
   "id": "0565cac8",
   "metadata": {},
   "outputs": [
    {
     "name": "stdout",
     "output_type": "stream",
     "text": [
      "Cow 4\n",
      "Chicken 2\n"
     ]
    }
   ],
   "source": [
    "class Canimal:\n",
    "    def __init__(self,strType):\n",
    "        self.strType=strType\n",
    "        self.iNumFeets=4\n",
    "\n",
    "tKlara=Canimal(\"Cow\")\n",
    "tKlukk=Canimal(\"Chicken\")\n",
    "tKlukk.iNumFeets=2\n",
    "print(tKlara.strType,tKlara.iNumFeets)\n",
    "print(tKlukk.strType,tKlukk.iNumFeets)"
   ]
  },
  {
   "cell_type": "markdown",
   "id": "a12352fb",
   "metadata": {},
   "source": [
    "The <i>self</i> parameter used above is a reference to the instance of the class, and is used to refer to variables in the class. You can use any other name for the reference to the instance, however, using the name <i>self</i> is the convention.\n",
    "\n",
    "Another common function is the str-function, that control the output of the instance when you print it. Without this str-function, what is returned when printing the instance is only the string representation of the object. This is shown in the example below. This example also show how you can add a method to an existing class."
   ]
  },
  {
   "cell_type": "code",
   "execution_count": 19,
   "id": "5cacf80a",
   "metadata": {},
   "outputs": [
    {
     "name": "stdout",
     "output_type": "stream",
     "text": [
      "<__main__.Canimal object at 0x7ac1fcfa8ef0>\n",
      "Animal: Cow, Number of feets: 4\n"
     ]
    }
   ],
   "source": [
    "print(tKlara)\n",
    "\n",
    "def __str__(self):\n",
    "    return \"Animal: \"+self.strType+\", Number of feets: \"+str(self.iNumFeets)\n",
    "\n",
    "#Add the str-method to the Canimal object \n",
    "Canimal.__str__ = __str__\n",
    "\n",
    "\n",
    "print(tKlara)"
   ]
  },
  {
   "cell_type": "markdown",
   "id": "1e7febe9",
   "metadata": {},
   "source": [
    "You can add whatever methods you like inside the class. These are added just like the init- and str-functions, but with your own method names. Below is an example of a class with a method."
   ]
  },
  {
   "cell_type": "code",
   "execution_count": 20,
   "id": "2b8c7051",
   "metadata": {},
   "outputs": [
    {
     "name": "stdout",
     "output_type": "stream",
     "text": [
      "False\n",
      "True\n"
     ]
    }
   ],
   "source": [
    "class Canimal:\n",
    "    def __init__(self,strType):\n",
    "        self.strType=strType\n",
    "        self.iNumFeets=4\n",
    "    \n",
    "    def hasWings(self):\n",
    "        if self.iNumFeets==2:\n",
    "            return True\n",
    "        else:\n",
    "            return False\n",
    "\n",
    "tKlara=Canimal(\"Cow\")\n",
    "tKlukk=Canimal(\"Chicken\")\n",
    "tKlukk.iNumFeets=2\n",
    "print(tKlara.hasWings())\n",
    "print(tKlukk.hasWings())"
   ]
  },
  {
   "cell_type": "markdown",
   "id": "cc2c663b",
   "metadata": {},
   "source": [
    "It should become clear during this course that writing object oriented codes is powerful i"
   ]
  }
 ],
 "metadata": {
  "kernelspec": {
   "display_name": "Python 3 (ipykernel)",
   "language": "python",
   "name": "python3"
  },
  "language_info": {
   "codemirror_mode": {
    "name": "ipython",
    "version": 3
   },
   "file_extension": ".py",
   "mimetype": "text/x-python",
   "name": "python",
   "nbconvert_exporter": "python",
   "pygments_lexer": "ipython3",
   "version": "3.12.3"
  }
 },
 "nbformat": 4,
 "nbformat_minor": 5
}
