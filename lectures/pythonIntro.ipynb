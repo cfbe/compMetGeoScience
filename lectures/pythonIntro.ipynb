{
 "cells": [
  {
   "cell_type": "markdown",
   "id": "2b30e378",
   "metadata": {},
   "source": [
    "# Introduction\n",
    "\n",
    "Before the advent of computers, engineering was conducted to a large extent by solving analytical equations describing the system under investigation. Analytical descriptions are useful, and in this course, we will encounter several analytical solutions that we will use as a base case to compare our numerical methods. However, we will also see that the analytical descriptions only hold for very simplified systems (homogeneous properties, often one-dimensional). For realistic shapes and property distributions, one quickly needs to solve the underlying equations using numerical methods. Therefore, numerical methods are essential for current-day engineering.\n",
    "\n",
    "This course focuses on numerical methods that are useful for an engineer. This includes numerical algorithms and techniques such as integration, differentiation, solutions to ordinary and partial differential equations, optimization, and machine learning. In this course, this will be solved using the programming language Python, and we will frequently use Python libraries such as numpy for our calculations and matplotlib for visualization. \n",
    "\n",
    "You are expected to already have a mathematics course using Python, which means that we already assume that you know integration and differentiation using Python, and that you know mathematical concepts such as matrices and their operations.\n",
    "\n",
    "\n",
    "## Python\n",
    "\n",
    "Python is a programming language that has become very popular. Its popularity is probably due to it being easy to learn, easy to write, and running without needing to compile it. Python supports object-oriented programming, which we will have a quick look at in this introduction.\n",
    "\n",
    "These notes assume that you already know Python to some extent. We will therefore not introduce the basics of Python, such as its syntax, its use of indenting to structure the code, etc. If you have no background in Python, you should probably take a quick look at an introductory website or a video.\n",
    "\n",
    "As these notes are made for students, codes are written more for readability than for efficiency. To clarify what is what, we will often use a Hungarian-like notation, where we specify the type of variable with a prefix. These are usually like the following:\n",
    "- C for class\n",
    "- t for objects and structures\n",
    "- h for handles/pointers\n",
    "- i for integers\n",
    "- f for floats\n",
    "- d for doubles\n",
    "- str for strings\n",
    "- ch for chars\n",
    "- b for booleans\n",
    "- a for arrays\n",
    "- aa for matrices (i.e., arrays of arrays)\n",
    "- aaa for 3D matrices (i.e., arrays of arrays of arrays), and so on\n",
    "- l for lists\n",
    "\n",
    "We suggest you try to follow the same structure when writing code.\n",
    "\n",
    "## Classes and objects\n",
    "\n",
    "In this course, we will often use object-oriented programming. Almost everything in Python is an object, even variables, but that has no practical implications for us as users. Where it has a practical implication is when we use classes. A <i>class</i> is like a construction manual for building <i>objects</i>, and an object is one instance of a class, i.e., one concrete entity constructed based on the construction manual given by the class.\n",
    "\n",
    "A class can contain:\n",
    "- Attributes: These are variables that hold data.\n",
    "- Methods: The methods are functions. These can be applied to attributes (the variables) of an object of the class.\n",
    "\n",
    "To create a class, we use the keyword class. A very simple example is the following:"
   ]
  },
  {
   "cell_type": "code",
   "execution_count": 1,
   "id": "1b0c7112",
   "metadata": {},
   "outputs": [],
   "source": [
    "class CclassExample:\n",
    "    ix = 1"
   ]
  },
  {
   "cell_type": "markdown",
   "id": "443ccdf6",
   "metadata": {},
   "source": [
    "Here, we have created a construction manual that creates one variable, an integer with the name `ix`, and this integer has been allocated the value $1$. So this class has an attribute, but no methods.\n",
    "\n",
    "We can then create an instance or object of this class. An object and an instance are strictly speaking not the same thing (an instance is an object and a pointer to that object), but for all practical purposes, we can consider them the same. An instance is, in some sense, a copy of the structure of the class. And we can create as many such copies as we want. In the following example, we create two instances of the class defined above, and we change the variable in one of the instances:"
   ]
  },
  {
   "cell_type": "code",
   "execution_count": 2,
   "id": "642be973",
   "metadata": {},
   "outputs": [
    {
     "name": "stdout",
     "output_type": "stream",
     "text": [
      "1\n",
      "2 1\n"
     ]
    }
   ],
   "source": [
    "tInst1=CclassExample()\n",
    "print(tInst1.ix)\n",
    "tInst2=CclassExample()\n",
    "tInst1.ix+=1\n",
    "print(tInst1.ix,tInst2.ix)"
   ]
  },
  {
   "cell_type": "markdown",
   "id": "da9405fa",
   "metadata": {},
   "source": [
    "In this example, the two created objects are called `tInst1` and `tInst2`, and we have changed the variable `ix` in the second object.\n",
    "\n",
    "The example above is very simple, and in this case, we would probably not have used a class at all, but rather just used two different variables. The power of using classes lies in their ability to contain both attributes and methods.\n",
    "\n",
    "### Magic methods/Dunder methods\n",
    "\n",
    "There are some special functions in Python, where the name of the function cannot be used by other user-defined functions. To avoid the names being used by chance, they all start and end with a double underscore, like `__init__`. The methods are therefore sometimes called <i>dunder methods</i>, where <i>dunder</i> is short for <i>double underscore</i>. They are also called magic methods.\n",
    "\n",
    "You can list all the magic methods, both for the classes you have built yourself and for the existing built-in classes in Python (such as variables), by using the `dir()` function:"
   ]
  },
  {
   "cell_type": "code",
   "execution_count": 3,
   "id": "d4f3fe96-83c1-40ef-ad8c-5b6bd223b9be",
   "metadata": {},
   "outputs": [
    {
     "name": "stdout",
     "output_type": "stream",
     "text": [
      "['__class__', '__delattr__', '__dict__', '__dir__', '__doc__', '__eq__', '__format__', '__ge__', '__getattribute__', '__getstate__', '__gt__', '__hash__', '__init__', '__init_subclass__', '__le__', '__lt__', '__module__', '__ne__', '__new__', '__reduce__', '__reduce_ex__', '__repr__', '__setattr__', '__sizeof__', '__str__', '__subclasshook__', '__weakref__', 'ix']\n"
     ]
    }
   ],
   "source": [
    "print(dir(CclassExample))"
   ]
  },
  {
   "cell_type": "markdown",
   "id": "ebc6c861-8f58-4265-8875-39e250a49482",
   "metadata": {},
   "source": [
    "We see that in the `CclassExample` class, we have a range of magic methods. We will get back to the two most important ones below. First, we will also show an example of how to use the `dir()` function on a built-in class, such as the `int` class for integer variables.\n"
   ]
  },
  {
   "cell_type": "code",
   "execution_count": 4,
   "id": "f9bf62e0-49dd-4818-9071-39974330e9b5",
   "metadata": {},
   "outputs": [
    {
     "name": "stdout",
     "output_type": "stream",
     "text": [
      "['__abs__', '__add__', '__and__', '__bool__', '__ceil__', '__class__', '__delattr__', '__dir__', '__divmod__', '__doc__', '__eq__', '__float__', '__floor__', '__floordiv__', '__format__', '__ge__', '__getattribute__', '__getnewargs__', '__getstate__', '__gt__', '__hash__', '__index__', '__init__', '__init_subclass__', '__int__', '__invert__', '__le__', '__lshift__', '__lt__', '__mod__', '__mul__', '__ne__', '__neg__', '__new__', '__or__', '__pos__', '__pow__', '__radd__', '__rand__', '__rdivmod__', '__reduce__', '__reduce_ex__', '__repr__', '__rfloordiv__', '__rlshift__', '__rmod__', '__rmul__', '__ror__', '__round__', '__rpow__', '__rrshift__', '__rshift__', '__rsub__', '__rtruediv__', '__rxor__', '__setattr__', '__sizeof__', '__str__', '__sub__', '__subclasshook__', '__truediv__', '__trunc__', '__xor__', 'as_integer_ratio', 'bit_count', 'bit_length', 'conjugate', 'denominator', 'from_bytes', 'imag', 'is_integer', 'numerator', 'real', 'to_bytes']\n"
     ]
    }
   ],
   "source": [
    "print(dir(int))"
   ]
  },
  {
   "cell_type": "markdown",
   "id": "e0f060c3-591a-4588-89a9-f2580251cc86",
   "metadata": {},
   "source": [
    "All of these built-in functions can be used for an integer variable. An example of how to use the `__abs__` method is shown below."
   ]
  },
  {
   "cell_type": "code",
   "execution_count": 5,
   "id": "7decb4fa-c07d-4fd1-8f36-beb972d395e8",
   "metadata": {},
   "outputs": [
    {
     "name": "stdout",
     "output_type": "stream",
     "text": [
      "-10\n",
      "10\n"
     ]
    }
   ],
   "source": [
    "iy=-10\n",
    "print(iy)\n",
    "print(iy.__abs__())"
   ]
  },
  {
   "cell_type": "markdown",
   "id": "45140a81-dced-42bc-bb10-935d2f298d1b",
   "metadata": {},
   "source": [
    "One of the magic methods for our newly created class is the `__init__`, which can be used to initialize the class. The variables to be initialized can either be given by the init function or given by input when you create a new instance of the class. An example is given below:"
   ]
  },
  {
   "cell_type": "code",
   "execution_count": 6,
   "id": "0565cac8",
   "metadata": {},
   "outputs": [
    {
     "name": "stdout",
     "output_type": "stream",
     "text": [
      "Cow 4\n",
      "Chicken 2\n"
     ]
    }
   ],
   "source": [
    "class Canimal:\n",
    "    def __init__(self,strType):\n",
    "        self.strType=strType\n",
    "        self.iNumFeet=4\n",
    "        \n",
    "tKlara=Canimal(\"Cow\")\n",
    "tKlukk=Canimal(\"Chicken\")\n",
    "tKlukk.iNumFeet=2\n",
    "print(tKlara.strType,tKlara.iNumFeet)\n",
    "print(tKlukk.strType,tKlukk.iNumFeet)"
   ]
  },
  {
   "cell_type": "markdown",
   "id": "a12352fb",
   "metadata": {},
   "source": [
    "The <i>self</i> parameter used above is a reference to the instance of the class, and is used to refer to variables in the class. You can use any other name for the reference to the instance; however, using the name <i>self</i> is the convention.\n",
    "\n",
    "Another common function is the `__str__`-function, which controls the output of the instance when you print it. Without this str-function, what is returned when printing the instance is only the string representation of the object. This is shown in the example below. This example also shows how you can add a method to an existing class."
   ]
  },
  {
   "cell_type": "code",
   "execution_count": 7,
   "id": "5cacf80a",
   "metadata": {},
   "outputs": [
    {
     "name": "stdout",
     "output_type": "stream",
     "text": [
      "<__main__.Canimal object at 0x7f1035d01a90>\n",
      "Animal: Cow, Number of feet: 4\n"
     ]
    }
   ],
   "source": [
    "print(tKlara)\n",
    "\n",
    "def __str__(self):\n",
    "    return \"Animal: \"+self.strType+\", Number of feet: \"+str(self.iNumFeet)\n",
    "\n",
    "#Add the str-method to the Canimal object \n",
    "Canimal.__str__ = __str__\n",
    "\n",
    "\n",
    "print(tKlara)"
   ]
  },
  {
   "cell_type": "markdown",
   "id": "1e7febe9",
   "metadata": {},
   "source": [
    "### General methods\n",
    "\n",
    "You can add whatever methods you like inside the class. These are added just like the init- and str-functions, but with your own method names. Below is an example of a class with a method."
   ]
  },
  {
   "cell_type": "code",
   "execution_count": 8,
   "id": "2b8c7051",
   "metadata": {},
   "outputs": [
    {
     "name": "stdout",
     "output_type": "stream",
     "text": [
      "False\n",
      "True\n"
     ]
    }
   ],
   "source": [
    "class Canimal:\n",
    "    def __init__(self,strType):\n",
    "        self.strType=strType\n",
    "        self.iNumFeet=4\n",
    "    \n",
    "    def hasWings(self):\n",
    "        if self.iNumFeet==2:\n",
    "            return True\n",
    "        else:\n",
    "            return False\n",
    "\n",
    "tKlara=Canimal(\"Cow\")\n",
    "tKlukk=Canimal(\"Chicken\")\n",
    "tKlukk.iNumFeet=2\n",
    "print(tKlara.hasWings())\n",
    "print(tKlukk.hasWings())"
   ]
  },
  {
   "cell_type": "markdown",
   "id": "cc2c663b",
   "metadata": {},
   "source": [
    "It should become clear during this course that writing object-oriented code is a powerful way of structuring your code. They help organize your code better, and they make it easier to reuse and maintain code. Additionally, they are often close to real-world objects. For engineering, the object is often one instance of what you try to model. If you are writing code for modeling, say bridges, then the object can be one specific bridge."
   ]
  }
 ],
 "metadata": {
  "kernelspec": {
   "display_name": "Python 3 (ipykernel)",
   "language": "python",
   "name": "python3"
  },
  "language_info": {
   "codemirror_mode": {
    "name": "ipython",
    "version": 3
   },
   "file_extension": ".py",
   "mimetype": "text/x-python",
   "name": "python",
   "nbconvert_exporter": "python",
   "pygments_lexer": "ipython3",
   "version": "3.12.3"
  }
 },
 "nbformat": 4,
 "nbformat_minor": 5
}
