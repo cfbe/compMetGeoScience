{
 "cells": [
  {
   "cell_type": "markdown",
   "id": "2b30e378",
   "metadata": {},
   "source": [
    "# Optimization\n",
    "### Carl Fredrik Berg, NTNU, 2023\n",
    "\n",
    "## Introduction\n",
    "\n",
    "<i>Optimization</i> is the selection of a <i>best</i> element with regard to some criterion from some set of available alternatives.\n",
    "\n",
    "Here we want to find the maximum or minimum of a function $f(x)$ on an interval $(a,b)$, i.e., select the optimum $x$.\n",
    "\n",
    "Closed form optimization applies techniques from calculus and algebra to solve an optimization problem.\n",
    "\n",
    "### Analytical example\n",
    "\n",
    "Find the extremum of the function $f(x) =x^2-4x+5$.\n",
    "\n",
    "$$\\begin{align}\n",
    "f'(x) & = 2x-4 \\\\\n",
    "f'(x_0) & =  0 \\\\\n",
    "2x_0 -4 &= 0 \\\\\n",
    "x_0 &= 2\n",
    "\\end{align}$$\n",
    "\n",
    "Since $f''(x_0) =  2 > 0$, we know that the function is convex everywhere, and in particular at point $x_0 = 2$, thus $f(x_0) = 1$ is a minimum point.\n"
   ]
  },
  {
   "cell_type": "code",
   "execution_count": null,
   "id": "1b0c7112",
   "metadata": {},
   "outputs": [],
   "source": [
    "import numpy as np\n",
    "import matplotlib.pyplot as plt\n",
    "\n",
    "def func(x):\n",
    "    return x**2-4*x+5\n",
    "\n",
    "xv=np.linspace(0,4,100)\n",
    "\n",
    "plt.plot(xv,func(xv))\n",
    "plt.show()"
   ]
  },
  {
   "cell_type": "markdown",
   "id": "443ccdf6",
   "metadata": {},
   "source": [
    "## Numerical optimization\n",
    "\n",
    "We gave an analytical example above, but in real engineering problems we seldom encounter situations where the function $f(x)$ to minimize of maximize has an analytical form.\n",
    "\n",
    "<i>Numerical optimization</i> solves the optimization problem by generating a series of estimates of the solution based on discrete samples.\n",
    "\n",
    "Applications of numerical optimization in geoscience includes:\n",
    "- Positioning of wells\n",
    "- Fluid flow parameters\n",
    "- Elastic properties of subsurface (based on seismic data)\n",
    "- Electromagnetic properties\n",
    "\n",
    "Note that in most geoscience applications, the function evaluation is a computationally demanding task. A function evaluation could for example be a full reservoir simulation, e.g., in the case of well positioning, and such simulations can take hours even in parallel mode. Thus you want optimization routines that obtain the extremum with the least number of function evaluations.\n",
    "\n",
    "Numerical optimization methods fall into two categories:\n",
    "- Methods that only need some function value\n",
    "- Methods that require both function values and gradient info.\n",
    "\n",
    "In this lecture we will consider methods that only require function values. In particular, we will consider several bracketing search methods. In <i>bracketing search methods</i> we evaluate the function many times in a given interval to find the maximum or minimum value within that interval.\n",
    "\n",
    "A function $f(x)$ is <i>unimodal</i> on a given interval if\n",
    "- $f(x)$ is monotonically decreasing (increasing) on (a,p)\n",
    "- $f(x)$ is monotonically increasing (decreasing) on (p,b)\n",
    "\n",
    "In other words, the function $f(x)$ has only one extremum in the interval. The extremum is at point $p$.\n"
   ]
  }
 ],
 "metadata": {
  "kernelspec": {
   "display_name": "Python 3 (ipykernel)",
   "language": "python",
   "name": "python3"
  },
  "language_info": {
   "codemirror_mode": {
    "name": "ipython",
    "version": 3
   },
   "file_extension": ".py",
   "mimetype": "text/x-python",
   "name": "python",
   "nbconvert_exporter": "python",
   "pygments_lexer": "ipython3",
   "version": "3.10.12"
  }
 },
 "nbformat": 4,
 "nbformat_minor": 5
}
