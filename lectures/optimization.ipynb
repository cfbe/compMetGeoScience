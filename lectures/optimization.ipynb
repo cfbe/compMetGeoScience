{
 "cells": [
  {
   "cell_type": "markdown",
   "id": "2b30e378",
   "metadata": {},
   "source": [
    "# Optimization\n",
    "\n",
    "\n",
    "## Introduction\n",
    "\n",
    "<i>Optimization</i> is the selection of a <i>best</i> element with regard to some criterion from some set of available alternatives. The alternatives can be continuous and multidimensional or just a limited discrete set. Optimization is obiquitus in engineering, as an engineer always want to deliver an optimal product, design or workflow.\n",
    "\n",
    "Throughout this section on optimization we want to find the minimum (or maximum) of a function $f(x)$ on a set, e.g., on an interval $(a,b)$. In other words, we want to select the optimum $x$, that is, the point $x$ such that $f(x) \\leq f(y)$ for all $y \\in (a,b)$. If we want to find the maximum of a function, we can use the same optimization methods to the negative of the function, thus considering the function $-f$.\n",
    "\n",
    "Closed form optimization applies techniques from calculus and algebra to solve an optimization problem. In this section we will go through some popular optimization techniques, from simple bracket techniques, traditional gradient based techniques, over to techniques that do not invoke the gradient. \n",
    "\n",
    "### Analytical example\n",
    "\n",
    "Find the extremum of the function $f(x) =x^2-4x+5$.\n",
    "\n",
    "$$\\begin{align}\n",
    "f'(x) & = 2x-4 \\\\\n",
    "f'(x_0) & =  0 \\\\\n",
    "2x_0 -4 &= 0 \\\\\n",
    "x_0 &= 2\n",
    "\\end{align}$$\n",
    "\n",
    "Since $f''(x_0) =  2 > 0$, we know that the function is convex everywhere, and in particular at point $x_0 = 2$, thus $f(x_0) = 1$ is a minimum point.\n"
   ]
  },
  {
   "cell_type": "code",
   "execution_count": null,
   "id": "1b0c7112",
   "metadata": {},
   "outputs": [],
   "source": [
    "import numpy as np\n",
    "import matplotlib.pyplot as plt\n",
    "\n",
    "def func(x):\n",
    "    return x**2-4*x+5\n",
    "\n",
    "xv=np.linspace(0,4,100)\n",
    "\n",
    "plt.plot(xv,func(xv))\n",
    "plt.show()"
   ]
  },
  {
   "cell_type": "markdown",
   "id": "443ccdf6",
   "metadata": {},
   "source": [
    "## Numerical optimization\n",
    "\n",
    "We gave an analytical example above, but in real engineering problems we seldom encounter situations where the function $f(x)$ to minimize of maximize has an analytical form. <i>Numerical optimization</i> solves the optimization problem by generating a series of estimates of the solution based on discrete samples.\n",
    "\n",
    "Applications of numerical optimization in geoscience includes:\n",
    "- Positioning of wells\n",
    "- Fluid flow parameters\n",
    "- Elastic properties of subsurface (based on seismic data)\n",
    "- Electromagnetic properties\n",
    "\n",
    "Note that in most geoscience applications, the function evaluation is a computationally demanding task. A function evaluation could for example be a full reservoir simulation, e.g., in the case of well positioning, and such simulations can take hours even in parallel mode. Thus you want optimization routines that obtain the extremum with the least number of function evaluations.\n",
    "\n",
    "Numerical optimization methods fall into two categories:\n",
    "- Methods that only need some function value\n",
    "- Methods that require both function values and gradient info.\n",
    "\n",
    "We will start by considering methods that only need the function value, but are only applicable for a limited set of problems; bracket search methods that are applicable for unimodal functions. After that soft introduction, we will consider gradient based methods, that is methods that require both function values and the gradient. From there we will revert back to methods that only rely on the function value, however, they are applicable to a wide class of problems."
   ]
  }
 ],
 "metadata": {
  "kernelspec": {
   "display_name": "Python 3 (ipykernel)",
   "language": "python",
   "name": "python3"
  },
  "language_info": {
   "codemirror_mode": {
    "name": "ipython",
    "version": 3
   },
   "file_extension": ".py",
   "mimetype": "text/x-python",
   "name": "python",
   "nbconvert_exporter": "python",
   "pygments_lexer": "ipython3",
   "version": "3.12.3"
  }
 },
 "nbformat": 4,
 "nbformat_minor": 5
}
