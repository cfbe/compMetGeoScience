{
 "cells": [
  {
   "cell_type": "markdown",
   "id": "ad30012a",
   "metadata": {},
   "source": [
    "# Partial differential equations\n",
    "### Carl Fredrik Berg, NTNU, 2023\n",
    "\n",
    "Many physical processes, including many problems in geoscience, are described using partial differential equations.\n",
    "\n",
    "A <i>multivariate function</i> is a function of several variables, e.g., $f(x,y) = xy$. For a porous medium (e.g., an aquifer), the pressure field is a function of the spatial variables and time $p = p(x,y,z,t)$. For a multivariate function $f$, a <i>partial derivative</i> is a derivative with respect to one variable when the other variables are held constant. It is unfortunately denoted in many different ways. The partial derivative $\\partial f / \\partial x$ of $f$ with respect to $x$ is then the derivative $df/dx$ when all other variables are held constant:\n",
    "\n",
    "\\begin{equation}\n",
    "\\frac{\\partial f}{\\partial x} = \\left. \\frac{df}{dx} \\right|_{y,\\dots} = \\lim_{h \\to 0} \\frac{f(x+h,y,\\dots)-f(x,y,\\dots)}{h}\n",
    "\\end{equation}\n",
    "\n",
    "A partial differential equation, often abbreviated as PDE, is a function of partial derivatives of multivariate functions. In contrast to ordinary differential equations, the unknown function in partial differential equations depend on several variables, e.g., in the following equation the function $f = f(x,t)$ is a function of both $x$ and $t$:\n",
    "$$\\frac{\\partial^2 f}{\\partial x^2} = \\frac{\\partial f}{\\partial t}$$\n",
    "\n",
    "There is a range of classes of partial differential equations. The <i>order</i> of a partial differential equation is the highest partial derivative in the equation, e.g., the equation above is a second order partial differential equation since the highest partial derivative is the partial derivative $\\partial^2 f / \\partial x^2$ of order two.\n",
    "\n",
    "A partial differential equation is called <i>linear</i> if it is a linear combination of the unknown function $f$ and its derivatives. All second order linear partial differential equation in two variables are therefore on the form\n",
    "$$A \\frac{\\partial^2 f}{\\partial x^2} + B \\frac{\\partial^2 f}{\\partial x \\partial y} + C \\frac{\\partial^2 f}{\\partial y^2} + D \\frac{\\partial f}{\\partial x} +  E \\frac{\\partial f}{\\partial y} + F f + G = 0$$\n",
    "There are three basic types of second order linear partial differential equations:\n",
    "\\begin{align}\n",
    " \\text{Parabolic:} \\quad & B^2-4AC=0  \\\\ \n",
    " \\text{Hyperbolic:} \\quad & B^2-4AC>0  \\\\ \n",
    " \\text{Elliptic:} \\quad & B^2-4AC<0  \n",
    "\\end{align}\n",
    "These three types of partial differential equations will be visited in the following sections."
   ]
  },
  {
   "cell_type": "code",
   "execution_count": null,
   "id": "4a0baa27",
   "metadata": {},
   "outputs": [],
   "source": []
  }
 ],
 "metadata": {
  "kernelspec": {
   "display_name": "Python 3 (ipykernel)",
   "language": "python",
   "name": "python3"
  },
  "language_info": {
   "codemirror_mode": {
    "name": "ipython",
    "version": 3
   },
   "file_extension": ".py",
   "mimetype": "text/x-python",
   "name": "python",
   "nbconvert_exporter": "python",
   "pygments_lexer": "ipython3",
   "version": "3.10.12"
  }
 },
 "nbformat": 4,
 "nbformat_minor": 5
}
