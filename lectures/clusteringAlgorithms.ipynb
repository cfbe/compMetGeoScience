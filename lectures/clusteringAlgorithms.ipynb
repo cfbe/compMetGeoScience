{
 "cells": [
  {
   "cell_type": "markdown",
   "id": "19efabd9",
   "metadata": {},
   "source": [
    "# Clustering algorithms\n",
    "\n",
    "Clustering are machine learning algorithms for grouping (or classifying ) datapoints based on their similarirty. In enginnering cross-plots of measurements are often used to to identify properties of a given system. A example from geophysics is to identify rock types base on plots with the S-wave velocity along one axis and the P-wave velocity along another axis. Given a large number of measurements different rock types will form clusters which can be identified. \n",
    "Clustering algorithms is a way of performing this type of identification in an automatic way.\n",
    "\n",
    "The figure below shows (left) plots of two wireline logs measuring gamma ray radiation in\n",
    "the same borehole. The two logs are slightly shifted in depth and needs to be aligned before they can be further used.\n",
    "Although this can be done manually, it would be more efficient to perform this automatically.\n",
    "Using a clustering algorithm, the log data points can be grouped into one cluster for each layer. The upper and lower boundaries for the layers shown in the log can then be identified and shifted to a common datum shown to\n",
    "thw right in the figure.\n",
    "\n",
    "![Wireline logs](clusterlogs.png)\n",
    "\n",
    "A number of different clustering algorithms exists, but in the following we will describe the K-means algorithm, which is one of the simplest.\n"
   ]
  },
  {
   "cell_type": "markdown",
   "id": "b9c93adb",
   "metadata": {},
   "source": [
    "The python code above shows a simple exampe of three clusters with three centroids. After three iterations\n",
    "the clusters are mostly identified. In this example the inital positions of the three centroids were not very\n",
    "far from the true positions. If the the centroids are placed further away from the true positions, the\n",
    "algorithm does not converge. Try for example to modify the code to place the initial centroids at random \n",
    "positions. \n"
   ]
  },
  {
   "cell_type": "markdown",
   "id": "5384a50f",
   "metadata": {},
   "source": []
  }
 ],
 "metadata": {
  "kernelspec": {
   "display_name": "Python 3 (ipykernel)",
   "language": "python",
   "name": "python3"
  },
  "language_info": {
   "codemirror_mode": {
    "name": "ipython",
    "version": 3
   },
   "file_extension": ".py",
   "mimetype": "text/x-python",
   "name": "python",
   "nbconvert_exporter": "python",
   "pygments_lexer": "ipython3",
   "version": "3.8.10"
  }
 },
 "nbformat": 4,
 "nbformat_minor": 5
}
